{
 "cells": [
  {
   "cell_type": "code",
   "execution_count": 1,
   "id": "bbf0a33a",
   "metadata": {},
   "outputs": [
    {
     "ename": "ModuleNotFoundError",
     "evalue": "No module named 'tensorflow'",
     "output_type": "error",
     "traceback": [
      "\u001b[31m---------------------------------------------------------------------------\u001b[39m",
      "\u001b[31mModuleNotFoundError\u001b[39m                       Traceback (most recent call last)",
      "\u001b[36mCell\u001b[39m\u001b[36m \u001b[39m\u001b[32mIn[1]\u001b[39m\u001b[32m, line 1\u001b[39m\n\u001b[32m----> \u001b[39m\u001b[32m1\u001b[39m \u001b[38;5;28;01mimport\u001b[39;00m\u001b[38;5;250m \u001b[39m\u001b[34;01mtensorflow\u001b[39;00m\u001b[38;5;250m \u001b[39m\u001b[38;5;28;01mas\u001b[39;00m\u001b[38;5;250m \u001b[39m\u001b[34;01mtf\u001b[39;00m\n\u001b[32m      2\u001b[39m \u001b[38;5;28;01mfrom\u001b[39;00m\u001b[38;5;250m \u001b[39m\u001b[34;01mtensorflow\u001b[39;00m\u001b[34;01m.\u001b[39;00m\u001b[34;01mkeras\u001b[39;00m\u001b[38;5;250m \u001b[39m\u001b[38;5;28;01mimport\u001b[39;00m layers, models, applications\n\u001b[32m      3\u001b[39m \u001b[38;5;28;01mimport\u001b[39;00m\u001b[38;5;250m \u001b[39m\u001b[34;01mmatplotlib\u001b[39;00m\u001b[34;01m.\u001b[39;00m\u001b[34;01mpyplot\u001b[39;00m\u001b[38;5;250m \u001b[39m\u001b[38;5;28;01mas\u001b[39;00m\u001b[38;5;250m \u001b[39m\u001b[34;01mplt\u001b[39;00m\n",
      "\u001b[31mModuleNotFoundError\u001b[39m: No module named 'tensorflow'"
     ]
    }
   ],
   "source": [
    "import tensorflow as tf\n",
    "from tensorflow.keras import layers, models, applications\n",
    "import matplotlib.pyplot as plt\n",
    "import numpy as np\n",
    "import os\n",
    "import time"
   ]
  },
  {
   "cell_type": "code",
   "execution_count": null,
   "id": "48dfa55a",
   "metadata": {},
   "outputs": [],
   "source": [
    "TRAIN_DIR = \"../prepared_data/train\"  \n",
    "VAL_DIR = \"../prepared_data/val\"\n",
    "IMG_SIZE = (224, 224)\n",
    "BATCH_SIZE = 32\n",
    "NUM_CLASSES = 8 # Kvasir-v2 için 8 sınıf var\n",
    "EPOCHS = 20 # Denemeler için 20, sonrasında artırılabilir\n",
    "MODEL_SAVE_PATH = \"../models/\" # Modellerin kaydedileceği yer\n",
    "\n",
    "# Klasörün var olduğundan emin ol\n",
    "os.makedirs(MODEL_SAVE_PATH, exist_ok=True)"
   ]
  },
  {
   "cell_type": "code",
   "execution_count": null,
   "id": "35717f82",
   "metadata": {},
   "outputs": [],
   "source": [
    "# 'categorical' kullanıyoruz çünkü 8 sınıfımız var\n",
    "train_dataset = tf.keras.utils.image_dataset_from_directory(\n",
    "    TRAIN_DIR,\n",
    "    seed=123,\n",
    "    image_size=IMG_SIZE,\n",
    "    batch_size=BATCH_SIZE,\n",
    "    label_mode='categorical'\n",
    ")\n",
    "\n",
    "validation_dataset = tf.keras.utils.image_dataset_from_directory(\n",
    "    VAL_DIR,\n",
    "    seed=123,\n",
    "    image_size=IMG_SIZE,\n",
    "    batch_size=BATCH_SIZE,\n",
    "    label_mode='categorical'\n",
    ")\n",
    "\n",
    "class_names = train_dataset.class_names\n",
    "print(\"Sınıflar:\", class_names)\n",
    "\n",
    "# Performans için veri setlerini önbelleğe al\n",
    "AUTOTUNE = tf.data.AUTOTUNE\n",
    "train_dataset = train_dataset.cache().prefetch(buffer_size=AUTOTUNE)\n",
    "validation_dataset = validation_dataset.cache().prefetch(buffer_size=AUTOTUNE)"
   ]
  },
  {
   "cell_type": "code",
   "execution_count": null,
   "id": "a848c97e",
   "metadata": {},
   "outputs": [],
   "source": [
    "def get_base_model():\n",
    "    return applications.MobileNetV3Small(input_shape=(*IMG_SIZE, 3), include_top=False, weights='imagenet')\n",
    "\n",
    "def get_preprocessing_pipeline():\n",
    "    return models.Sequential([\n",
    "        layers.Input(shape=(*IMG_SIZE, 3)),\n",
    "        layers.Rescaling(1./255)\n",
    "    ], name=\"baseline_pipeline\")\n",
    "\n",
    "experiment_name = \"mobilenetv3_baseline\"\n"
   ]
  },
  {
   "cell_type": "code",
   "execution_count": null,
   "id": "eed2b0da",
   "metadata": {},
   "outputs": [],
   "source": [
    "def create_model(base_model_func, preprocessing_pipeline_func, num_classes):\n",
    "    # Transfer Learning için temel modeli al ve dondur\n",
    "    base_model = base_model_func()\n",
    "    base_model.trainable = False\n",
    "    \n",
    "    # Ön işleme hattını al\n",
    "    preprocessing_pipeline = preprocessing_pipeline_func()\n",
    "    \n",
    "    # Modeli birleştir\n",
    "    inputs = layers.Input(shape=(*IMG_SIZE, 3), name=\"input_layer\")\n",
    "    x = preprocessing_pipeline(inputs)\n",
    "    x = base_model(x, training=False) # 'training=False' önemlidir\n",
    "    x = layers.GlobalAveragePooling2D()(x)\n",
    "    x = layers.Dropout(0.3)(x)\n",
    "    outputs = layers.Dense(num_classes, activation=\"softmax\")(x)\n",
    "    \n",
    "    model = models.Model(inputs, outputs)\n",
    "    \n",
    "    model.compile(\n",
    "        optimizer=tf.keras.optimizers.Adam(learning_rate=0.001),\n",
    "        loss=\"categorical_crossentropy\",\n",
    "        metrics=[\"accuracy\"]\n",
    "    )\n",
    "    return model\n",
    "\n",
    "print(f\"Deney Başlatılıyor: {experiment_name}\")\n",
    "model = create_model(get_base_model, get_preprocessing_pipeline, NUM_CLASSES)\n",
    "model.summary()"
   ]
  },
  {
   "cell_type": "code",
   "execution_count": null,
   "id": "be71e6f6",
   "metadata": {},
   "outputs": [],
   "source": [
    "start_time = time.time()\n",
    "history = model.fit(\n",
    "    train_dataset,\n",
    "    epochs=EPOCHS,\n",
    "    validation_data=validation_dataset\n",
    ")\n",
    "end_time = time.time()\n",
    "print(f\"Eğitim Süresi: {end_time - start_time:.2f} saniye\")"
   ]
  },
  {
   "cell_type": "code",
   "execution_count": null,
   "id": "0ed9f64b",
   "metadata": {},
   "outputs": [],
   "source": [
    "model_filename = os.path.join(MODEL_SAVE_PATH, f\"{experiment_name}.h5\")\n",
    "model.save(model_filename)\n",
    "print(f\"Model başarıyla kaydedildi: {model_filename}\")"
   ]
  },
  {
   "cell_type": "code",
   "execution_count": null,
   "id": "2f8c7407",
   "metadata": {},
   "outputs": [],
   "source": [
    "acc = history.history['accuracy']\n",
    "val_acc = history.history['val_accuracy']\n",
    "loss = history.history['loss']\n",
    "val_loss = history.history['val_loss']\n",
    "\n",
    "plt.figure(figsize=(10, 5))\n",
    "plt.subplot(1, 2, 1)\n",
    "plt.plot(acc, label='Eğitim Doğruluğu')\n",
    "plt.plot(val_acc, label='Validasyon Doğruluğu')\n",
    "plt.legend(loc='lower right')\n",
    "plt.title(f'{experiment_name} - Doğruluk Grafiği')\n",
    "\n",
    "plt.subplot(1, 2, 2)\n",
    "plt.plot(loss, label='Eğitim Kaybı')\n",
    "plt.plot(val_loss, label='Validasyon Kaybı')\n",
    "plt.legend(loc='upper right')\n",
    "plt.title(f'{experiment_name} - Kayıp Grafiği')\n",
    "plt.show()"
   ]
  }
 ],
 "metadata": {
  "kernelspec": {
   "display_name": "venv",
   "language": "python",
   "name": "python3"
  },
  "language_info": {
   "codemirror_mode": {
    "name": "ipython",
    "version": 3
   },
   "file_extension": ".py",
   "mimetype": "text/x-python",
   "name": "python",
   "nbconvert_exporter": "python",
   "pygments_lexer": "ipython3",
   "version": "3.13.7"
  }
 },
 "nbformat": 4,
 "nbformat_minor": 5
}
