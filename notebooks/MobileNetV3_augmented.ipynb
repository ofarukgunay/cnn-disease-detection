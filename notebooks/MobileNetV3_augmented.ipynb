{
 "cells": [
  {
   "cell_type": "code",
   "execution_count": null,
   "id": "3936095f",
   "metadata": {},
   "outputs": [],
   "source": [
    "import tensorflow as tf\n",
    "from tensorflow.keras import layers, models\n",
    "from tensorflow.keras.preprocessing.image import ImageDataGenerator\n",
    "import os"
   ]
  },
  {
   "cell_type": "code",
   "execution_count": null,
   "id": "8a20fe6a",
   "metadata": {},
   "outputs": [],
   "source": [
    "TRAIN_DIR = \"data/prepared-data/<folder_name>/train\"\n",
    "VAL_DIR   = \"data/prepared-data/<folder_name>/val\"\n",
    "\n",
    "IMG_HEIGHT = 224\n",
    "IMG_WIDTH = 224\n",
    "BATCH_SIZE = 32\n",
    "EPOCHS = 10"
   ]
  },
  {
   "cell_type": "code",
   "execution_count": null,
   "id": "6d495937",
   "metadata": {},
   "outputs": [],
   "source": [
    "# eğitim sırasında augment, normalize ve grayscale uygulama\n",
    "train_datagen = ImageDataGenerator(\n",
    "    rescale=1./255,\n",
    "    horizontal_flip=True,\n",
    "    vertical_flip=True,\n",
    "    rotation_range=15\n",
    ")\n",
    "\n",
    "val_datagen = ImageDataGenerator(\n",
    "    rescale=1./255\n",
    ")"
   ]
  },
  {
   "cell_type": "code",
   "execution_count": null,
   "id": "f19ed455",
   "metadata": {},
   "outputs": [],
   "source": [
    "# Eğer grayscale yapmak istersen, flow_from_directory ile color_mode='grayscale' kullanabilirsin\n",
    "# Ama MobileNetV3 3 kanal RGB bekliyor, bu yüzden grayscale → RGB yapıyoruz\n",
    "def preprocess_grayscale_rgb(img):\n",
    "    img = tf.image.rgb_to_grayscale(img)  # grayscale\n",
    "    img = tf.image.grayscale_to_rgb(img)  # tekrar 3 kanal\n",
    "    return img"
   ]
  },
  {
   "cell_type": "code",
   "execution_count": null,
   "id": "b4527f26",
   "metadata": {},
   "outputs": [],
   "source": [
    "# Custom preprocessing ile ImageDataGenerator kullanmak için:\n",
    "def custom_preprocessing(img):\n",
    "    img = tf.cast(img, tf.float32)\n",
    "    img = preprocess_grayscale_rgb(img)\n",
    "    img = img / 255.0  # normalize\n",
    "    return img\n",
    "\n",
    "train_generator = train_datagen.flow_from_directory(\n",
    "    TRAIN_DIR,\n",
    "    target_size=(IMG_HEIGHT, IMG_WIDTH),\n",
    "    batch_size=BATCH_SIZE,\n",
    "    class_mode='categorical'\n",
    ")\n",
    "\n",
    "val_generator = val_datagen.flow_from_directory(\n",
    "    VAL_DIR,\n",
    "    target_size=(IMG_HEIGHT, IMG_WIDTH),\n",
    "    batch_size=BATCH_SIZE,\n",
    "    class_mode='categorical'\n",
    ")"
   ]
  },
  {
   "cell_type": "code",
   "execution_count": null,
   "id": "7f56b83b",
   "metadata": {},
   "outputs": [],
   "source": [
    "base_model = tf.keras.applications.MobileNetV3Large(\n",
    "    input_shape=(IMG_HEIGHT, IMG_WIDTH, 3),\n",
    "    include_top=False,\n",
    "    weights='imagenet'\n",
    ")\n",
    "base_model.trainable = True\n",
    "\n",
    "model = models.Sequential([\n",
    "    base_model,\n",
    "    layers.GlobalAveragePooling2D(),\n",
    "    layers.Dropout(0.3),\n",
    "    layers.Dense(train_generator.num_classes, activation='softmax')\n",
    "])\n",
    "\n",
    "model.compile(\n",
    "    optimizer=tf.keras.optimizers.Adam(learning_rate=0.001),\n",
    "    loss='categorical_crossentropy',\n",
    "    metrics=['accuracy']\n",
    ")"
   ]
  },
  {
   "cell_type": "code",
   "execution_count": null,
   "id": "fe4dee1f",
   "metadata": {},
   "outputs": [],
   "source": [
    "history = model.fit(\n",
    "    train_generator,\n",
    "    validation_data=val_generator,\n",
    "    epochs=EPOCHS\n",
    ")"
   ]
  },
  {
   "cell_type": "code",
   "execution_count": null,
   "id": "0323def7",
   "metadata": {},
   "outputs": [],
   "source": [
    "model.save(\"mobilenetv3_aug_gray_norm.h5\")"
   ]
  }
 ],
 "metadata": {
  "language_info": {
   "name": "python"
  }
 },
 "nbformat": 4,
 "nbformat_minor": 5
}
