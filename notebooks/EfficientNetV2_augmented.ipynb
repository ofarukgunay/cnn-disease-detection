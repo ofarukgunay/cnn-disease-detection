{
 "cells": [
  {
   "cell_type": "code",
   "execution_count": 1,
   "id": "bbf0a33a",
   "metadata": {},
   "outputs": [
    {
     "name": "stdout",
     "output_type": "stream",
     "text": [
      "Kullanılabilir GPU Sayısı:  1\n"
     ]
    }
   ],
   "source": [
    "import tensorflow as tf\n",
    "print(\"Kullanılabilir GPU Sayısı: \", len(tf.config.experimental.list_physical_devices('GPU')))\n",
    "from tensorflow.keras import layers, models, applications\n",
    "import matplotlib.pyplot as plt\n",
    "import numpy as np\n",
    "import os\n",
    "import time"
   ]
  },
  {
   "cell_type": "code",
   "execution_count": 2,
   "id": "48dfa55a",
   "metadata": {},
   "outputs": [],
   "source": [
    "TRAIN_DIR = \"C:\\\\Users\\\\ofaru\\\\Desktop\\\\GitHub\\\\Gastroenterology-CNN-Comparison\\\\data\\\\prepared-data\\\\train\"  \n",
    "VAL_DIR = \"C:\\\\Users\\\\ofaru\\\\Desktop\\\\GitHub\\\\Gastroenterology-CNN-Comparison\\\\data\\\\prepared-data\\\\val\"\n",
    "IMG_SIZE = (224, 224)\n",
    "BATCH_SIZE = 64\n",
    "NUM_CLASSES = 8 # Kvasir-v2 için 8 sınıf var\n",
    "EPOCHS = 50 # Denemeler için sonrasında artırılabilir\n",
    "MODEL_SAVE_PATH = \"C:\\\\Users\\\\ofaru\\\\Desktop\\\\GitHub\\\\Gastroenterology-CNN-Comparison\\\\models\\\\\" # Modellerin kaydedileceği yer\n",
    "\n",
    "# Klasörün var olduğundan emin ol\n",
    "os.makedirs(MODEL_SAVE_PATH, exist_ok=True)"
   ]
  },
  {
   "cell_type": "code",
   "execution_count": 3,
   "id": "35717f82",
   "metadata": {},
   "outputs": [
    {
     "name": "stdout",
     "output_type": "stream",
     "text": [
      "Found 5592 files belonging to 8 classes.\n",
      "Found 1600 files belonging to 8 classes.\n",
      "Sınıflar: ['dyed-lifted-polyps', 'dyed-resection-margins', 'esophagitis', 'normal-cecum', 'normal-pylorus', 'normal-z-line', 'polyps', 'ulcerative-colitis']\n"
     ]
    }
   ],
   "source": [
    "# 'categorical' kullanıyoruz çünkü 8 sınıfımız var\n",
    "train_dataset = tf.keras.utils.image_dataset_from_directory(\n",
    "    TRAIN_DIR,\n",
    "    seed=123,\n",
    "    image_size=IMG_SIZE,\n",
    "    batch_size=BATCH_SIZE,\n",
    "    label_mode='categorical'\n",
    ")\n",
    "\n",
    "validation_dataset = tf.keras.utils.image_dataset_from_directory(\n",
    "    VAL_DIR,\n",
    "    seed=123,\n",
    "    image_size=IMG_SIZE,\n",
    "    batch_size=BATCH_SIZE,\n",
    "    label_mode='categorical'\n",
    ")\n",
    "\n",
    "class_names = train_dataset.class_names\n",
    "print(\"Sınıflar:\", class_names)\n",
    "\n",
    "# Performans için veri setlerini önbelleğe al\n",
    "AUTOTUNE = tf.data.AUTOTUNE\n",
    "train_dataset = train_dataset.cache().prefetch(buffer_size=AUTOTUNE)\n",
    "validation_dataset = validation_dataset.cache().prefetch(buffer_size=AUTOTUNE)"
   ]
  },
  {
   "cell_type": "code",
   "execution_count": 4,
   "id": "a848c97e",
   "metadata": {},
   "outputs": [],
   "source": [
    "def get_base_model():\n",
    "    # EfficientNetV2B0, ölçeklendirmeyi kendi içinde yapar\n",
    "    return applications.EfficientNetV2B0(input_shape=(*IMG_SIZE, 3), include_top=False, weights='imagenet')\n",
    "\n",
    "def get_preprocessing_pipeline():\n",
    "    return models.Sequential([\n",
    "        layers.Input(shape=(*IMG_SIZE, 3)),\n",
    "        layers.RandomFlip(\"horizontal_and_vertical\"),\n",
    "        layers.RandomRotation(0.2),\n",
    "        layers.RandomZoom(0.2),\n",
    "        layers.RandomContrast(0.2)\n",
    "    ], name=\"efficientnet_augmented_pipeline\")\n",
    "\n",
    "experiment_name = \"efficientnetv2b0_augmented_FIXED\""
   ]
  },
  {
   "cell_type": "code",
   "execution_count": 5,
   "id": "eed2b0da",
   "metadata": {},
   "outputs": [
    {
     "name": "stdout",
     "output_type": "stream",
     "text": [
      "Deney Başlatılıyor: efficientnetv2b0_augmented_FIXED\n",
      "Model: \"model\"\n",
      "_________________________________________________________________\n",
      " Layer (type)                Output Shape              Param #   \n",
      "=================================================================\n",
      " input_layer (InputLayer)    [(None, 224, 224, 3)]     0         \n",
      "                                                                 \n",
      " efficientnet_augmented_pipe  (None, 224, 224, 3)      0         \n",
      " line (Sequential)                                               \n",
      "                                                                 \n",
      " efficientnetv2-b0 (Function  (None, 7, 7, 1280)       5919312   \n",
      " al)                                                             \n",
      "                                                                 \n",
      " global_average_pooling2d (G  (None, 1280)             0         \n",
      " lobalAveragePooling2D)                                          \n",
      "                                                                 \n",
      " dropout (Dropout)           (None, 1280)              0         \n",
      "                                                                 \n",
      " dense (Dense)               (None, 8)                 10248     \n",
      "                                                                 \n",
      "=================================================================\n",
      "Total params: 5,929,560\n",
      "Trainable params: 10,248\n",
      "Non-trainable params: 5,919,312\n",
      "_________________________________________________________________\n"
     ]
    }
   ],
   "source": [
    "def create_model(base_model_func, preprocessing_pipeline_func, num_classes):\n",
    "    # Transfer Learning için temel modeli al ve dondur\n",
    "    base_model = base_model_func()\n",
    "    base_model.trainable = False\n",
    "    \n",
    "    # Ön işleme hattını al\n",
    "    preprocessing_pipeline = preprocessing_pipeline_func()\n",
    "    \n",
    "    # Modeli birleştir\n",
    "    inputs = layers.Input(shape=(*IMG_SIZE, 3), name=\"input_layer\")\n",
    "    x = preprocessing_pipeline(inputs)\n",
    "    x = base_model(x, training=False) # 'training=False' önemlidir\n",
    "    x = layers.GlobalAveragePooling2D()(x)\n",
    "    x = layers.Dropout(0.3)(x)\n",
    "    outputs = layers.Dense(num_classes, activation=\"softmax\")(x)\n",
    "    \n",
    "    model = models.Model(inputs, outputs)\n",
    "    \n",
    "    model.compile(\n",
    "        optimizer=tf.keras.optimizers.Adam(learning_rate=0.001),\n",
    "        loss=\"categorical_crossentropy\",\n",
    "        metrics=[\"accuracy\"]\n",
    "    )\n",
    "    return model\n",
    "\n",
    "print(f\"Deney Başlatılıyor: {experiment_name}\")\n",
    "model = create_model(get_base_model, get_preprocessing_pipeline, NUM_CLASSES)\n",
    "model.summary()"
   ]
  },
  {
   "cell_type": "code",
   "execution_count": 6,
   "id": "b6ac29c1",
   "metadata": {},
   "outputs": [],
   "source": [
    "reduce_lr = tf.keras.callbacks.ReduceLROnPlateau(\n",
    "    monitor='val_loss',  # Neyi izleyecek? Validasyon kaybını\n",
    "    factor=0.2,          # Ne kadar azaltacak? (0.001 -> 0.0002 gibi)\n",
    "    patience=3,          # Kaç epoch bekleyecek? (3 epoch iyileşme olmazsa azalt)\n",
    "    min_lr=0.00001       # Minimum ne kadar düşürebilir?\n",
    ")"
   ]
  },
  {
   "cell_type": "code",
   "execution_count": 7,
   "id": "be71e6f6",
   "metadata": {},
   "outputs": [
    {
     "name": "stdout",
     "output_type": "stream",
     "text": [
      "Epoch 1/50\n",
      "WARNING:tensorflow:Using a while_loop for converting RngReadAndSkip cause there is no registered converter for this op.\n",
      "WARNING:tensorflow:Using a while_loop for converting Bitcast cause there is no registered converter for this op.\n",
      "WARNING:tensorflow:Using a while_loop for converting Bitcast cause there is no registered converter for this op.\n",
      "WARNING:tensorflow:Using a while_loop for converting StatelessRandomUniformV2 cause there is no registered converter for this op.\n",
      "WARNING:tensorflow:Using a while_loop for converting ImageProjectiveTransformV3 cause there is no registered converter for this op.\n",
      "WARNING:tensorflow:Using a while_loop for converting RngReadAndSkip cause there is no registered converter for this op.\n",
      "WARNING:tensorflow:Using a while_loop for converting Bitcast cause there is no registered converter for this op.\n",
      "WARNING:tensorflow:Using a while_loop for converting Bitcast cause there is no registered converter for this op.\n",
      "WARNING:tensorflow:Using a while_loop for converting StatelessRandomUniformV2 cause there is no registered converter for this op.\n",
      "WARNING:tensorflow:Using a while_loop for converting ImageProjectiveTransformV3 cause there is no registered converter for this op.\n",
      "WARNING:tensorflow:Using a while_loop for converting RngReadAndSkip cause there is no registered converter for this op.\n",
      "WARNING:tensorflow:Using a while_loop for converting Bitcast cause there is no registered converter for this op.\n",
      "WARNING:tensorflow:Using a while_loop for converting Bitcast cause there is no registered converter for this op.\n",
      "WARNING:tensorflow:Using a while_loop for converting StatelessRandomUniformFullIntV2 cause there is no registered converter for this op.\n",
      "WARNING:tensorflow:Using a while_loop for converting StatelessRandomGetKeyCounter cause there is no registered converter for this op.\n",
      "WARNING:tensorflow:Using a while_loop for converting StatelessRandomUniformV2 cause there is no registered converter for this op.\n",
      "WARNING:tensorflow:Using a while_loop for converting AdjustContrastv2 cause Input \"contrast_factor\" of op 'AdjustContrastv2' expected to be loop invariant.\n",
      "WARNING:tensorflow:Using a while_loop for converting RngReadAndSkip cause there is no registered converter for this op.\n",
      "WARNING:tensorflow:Using a while_loop for converting Bitcast cause there is no registered converter for this op.\n",
      "WARNING:tensorflow:Using a while_loop for converting Bitcast cause there is no registered converter for this op.\n",
      "WARNING:tensorflow:Using a while_loop for converting StatelessRandomUniformV2 cause there is no registered converter for this op.\n",
      "WARNING:tensorflow:Using a while_loop for converting ImageProjectiveTransformV3 cause there is no registered converter for this op.\n",
      "WARNING:tensorflow:Using a while_loop for converting RngReadAndSkip cause there is no registered converter for this op.\n",
      "WARNING:tensorflow:Using a while_loop for converting Bitcast cause there is no registered converter for this op.\n",
      "WARNING:tensorflow:Using a while_loop for converting Bitcast cause there is no registered converter for this op.\n",
      "WARNING:tensorflow:Using a while_loop for converting StatelessRandomUniformV2 cause there is no registered converter for this op.\n",
      "WARNING:tensorflow:Using a while_loop for converting ImageProjectiveTransformV3 cause there is no registered converter for this op.\n",
      "WARNING:tensorflow:Using a while_loop for converting RngReadAndSkip cause there is no registered converter for this op.\n",
      "WARNING:tensorflow:Using a while_loop for converting Bitcast cause there is no registered converter for this op.\n",
      "WARNING:tensorflow:Using a while_loop for converting Bitcast cause there is no registered converter for this op.\n",
      "WARNING:tensorflow:Using a while_loop for converting StatelessRandomUniformFullIntV2 cause there is no registered converter for this op.\n",
      "WARNING:tensorflow:Using a while_loop for converting StatelessRandomGetKeyCounter cause there is no registered converter for this op.\n",
      "WARNING:tensorflow:Using a while_loop for converting StatelessRandomUniformV2 cause there is no registered converter for this op.\n",
      "WARNING:tensorflow:Using a while_loop for converting AdjustContrastv2 cause Input \"contrast_factor\" of op 'AdjustContrastv2' expected to be loop invariant.\n",
      "88/88 [==============================] - 99s 841ms/step - loss: 1.1435 - accuracy: 0.6034 - val_loss: 0.6588 - val_accuracy: 0.7881 - lr: 0.0010\n",
      "Epoch 2/50\n",
      "88/88 [==============================] - 73s 830ms/step - loss: 0.6252 - accuracy: 0.7870 - val_loss: 0.5305 - val_accuracy: 0.8125 - lr: 0.0010\n",
      "Epoch 3/50\n",
      "88/88 [==============================] - 66s 750ms/step - loss: 0.5058 - accuracy: 0.8210 - val_loss: 0.4756 - val_accuracy: 0.8213 - lr: 0.0010\n",
      "Epoch 4/50\n",
      "88/88 [==============================] - 72s 819ms/step - loss: 0.4664 - accuracy: 0.8278 - val_loss: 0.4582 - val_accuracy: 0.8269 - lr: 0.0010\n",
      "Epoch 5/50\n",
      "88/88 [==============================] - 73s 834ms/step - loss: 0.4336 - accuracy: 0.8387 - val_loss: 0.4228 - val_accuracy: 0.8356 - lr: 0.0010\n",
      "Epoch 6/50\n",
      "88/88 [==============================] - 72s 821ms/step - loss: 0.4144 - accuracy: 0.8385 - val_loss: 0.4124 - val_accuracy: 0.8375 - lr: 0.0010\n",
      "Epoch 7/50\n",
      "88/88 [==============================] - 72s 823ms/step - loss: 0.3952 - accuracy: 0.8492 - val_loss: 0.4030 - val_accuracy: 0.8450 - lr: 0.0010\n",
      "Epoch 8/50\n",
      "88/88 [==============================] - 74s 838ms/step - loss: 0.3869 - accuracy: 0.8537 - val_loss: 0.3889 - val_accuracy: 0.8531 - lr: 0.0010\n",
      "Epoch 9/50\n",
      "88/88 [==============================] - 80s 908ms/step - loss: 0.3778 - accuracy: 0.8514 - val_loss: 0.3706 - val_accuracy: 0.8569 - lr: 0.0010\n",
      "Epoch 10/50\n",
      "88/88 [==============================] - 83s 946ms/step - loss: 0.3685 - accuracy: 0.8573 - val_loss: 0.3777 - val_accuracy: 0.8531 - lr: 0.0010\n",
      "Epoch 11/50\n",
      "88/88 [==============================] - 69s 782ms/step - loss: 0.3667 - accuracy: 0.8557 - val_loss: 0.3730 - val_accuracy: 0.8550 - lr: 0.0010\n",
      "Epoch 12/50\n",
      "88/88 [==============================] - 74s 846ms/step - loss: 0.3473 - accuracy: 0.8636 - val_loss: 0.3616 - val_accuracy: 0.8606 - lr: 0.0010\n",
      "Epoch 13/50\n",
      "88/88 [==============================] - 76s 866ms/step - loss: 0.3637 - accuracy: 0.8560 - val_loss: 0.3606 - val_accuracy: 0.8631 - lr: 0.0010\n",
      "Epoch 14/50\n",
      "88/88 [==============================] - 76s 863ms/step - loss: 0.3443 - accuracy: 0.8664 - val_loss: 0.3579 - val_accuracy: 0.8631 - lr: 0.0010\n",
      "Epoch 15/50\n",
      "88/88 [==============================] - 76s 863ms/step - loss: 0.3522 - accuracy: 0.8603 - val_loss: 0.3682 - val_accuracy: 0.8562 - lr: 0.0010\n",
      "Epoch 16/50\n",
      "88/88 [==============================] - 77s 872ms/step - loss: 0.3419 - accuracy: 0.8675 - val_loss: 0.3512 - val_accuracy: 0.8675 - lr: 0.0010\n",
      "Epoch 17/50\n",
      "88/88 [==============================] - 76s 869ms/step - loss: 0.3283 - accuracy: 0.8704 - val_loss: 0.3653 - val_accuracy: 0.8537 - lr: 0.0010\n",
      "Epoch 18/50\n",
      "88/88 [==============================] - 76s 866ms/step - loss: 0.3375 - accuracy: 0.8653 - val_loss: 0.3489 - val_accuracy: 0.8637 - lr: 0.0010\n",
      "Epoch 19/50\n",
      "88/88 [==============================] - 77s 877ms/step - loss: 0.3245 - accuracy: 0.8755 - val_loss: 0.3363 - val_accuracy: 0.8669 - lr: 0.0010\n",
      "Epoch 20/50\n",
      "88/88 [==============================] - 73s 823ms/step - loss: 0.3277 - accuracy: 0.8677 - val_loss: 0.3495 - val_accuracy: 0.8687 - lr: 0.0010\n",
      "Epoch 21/50\n",
      "88/88 [==============================] - 66s 752ms/step - loss: 0.3346 - accuracy: 0.8689 - val_loss: 0.3411 - val_accuracy: 0.8681 - lr: 0.0010\n",
      "Epoch 22/50\n",
      "88/88 [==============================] - 72s 822ms/step - loss: 0.3189 - accuracy: 0.8698 - val_loss: 0.3405 - val_accuracy: 0.8612 - lr: 0.0010\n",
      "Epoch 23/50\n",
      "88/88 [==============================] - 69s 786ms/step - loss: 0.3189 - accuracy: 0.8705 - val_loss: 0.3344 - val_accuracy: 0.8656 - lr: 2.0000e-04\n",
      "Epoch 24/50\n",
      "88/88 [==============================] - 78s 886ms/step - loss: 0.3200 - accuracy: 0.8745 - val_loss: 0.3324 - val_accuracy: 0.8687 - lr: 2.0000e-04\n",
      "Epoch 25/50\n",
      "88/88 [==============================] - 76s 864ms/step - loss: 0.3089 - accuracy: 0.8805 - val_loss: 0.3334 - val_accuracy: 0.8681 - lr: 2.0000e-04\n",
      "Epoch 26/50\n",
      "88/88 [==============================] - 76s 860ms/step - loss: 0.3221 - accuracy: 0.8695 - val_loss: 0.3445 - val_accuracy: 0.8650 - lr: 2.0000e-04\n",
      "Epoch 27/50\n",
      "88/88 [==============================] - 75s 849ms/step - loss: 0.3135 - accuracy: 0.8736 - val_loss: 0.3346 - val_accuracy: 0.8675 - lr: 2.0000e-04\n",
      "Epoch 28/50\n",
      "88/88 [==============================] - 76s 867ms/step - loss: 0.3089 - accuracy: 0.8764 - val_loss: 0.3323 - val_accuracy: 0.8681 - lr: 4.0000e-05\n",
      "Epoch 29/50\n",
      "88/88 [==============================] - 75s 857ms/step - loss: 0.3188 - accuracy: 0.8737 - val_loss: 0.3311 - val_accuracy: 0.8681 - lr: 4.0000e-05\n",
      "Epoch 30/50\n",
      "88/88 [==============================] - 75s 848ms/step - loss: 0.3118 - accuracy: 0.8723 - val_loss: 0.3306 - val_accuracy: 0.8687 - lr: 4.0000e-05\n",
      "Epoch 31/50\n",
      "88/88 [==============================] - 71s 812ms/step - loss: 0.3206 - accuracy: 0.8691 - val_loss: 0.3332 - val_accuracy: 0.8662 - lr: 4.0000e-05\n",
      "Epoch 32/50\n",
      "88/88 [==============================] - 76s 863ms/step - loss: 0.3143 - accuracy: 0.8766 - val_loss: 0.3328 - val_accuracy: 0.8669 - lr: 4.0000e-05\n",
      "Epoch 33/50\n",
      "88/88 [==============================] - 76s 862ms/step - loss: 0.3154 - accuracy: 0.8730 - val_loss: 0.3322 - val_accuracy: 0.8669 - lr: 4.0000e-05\n",
      "Epoch 34/50\n",
      "88/88 [==============================] - 77s 875ms/step - loss: 0.3108 - accuracy: 0.8720 - val_loss: 0.3322 - val_accuracy: 0.8675 - lr: 1.0000e-05\n",
      "Epoch 35/50\n",
      "88/88 [==============================] - 76s 860ms/step - loss: 0.3123 - accuracy: 0.8723 - val_loss: 0.3320 - val_accuracy: 0.8669 - lr: 1.0000e-05\n",
      "Epoch 36/50\n",
      "88/88 [==============================] - 79s 893ms/step - loss: 0.3120 - accuracy: 0.8739 - val_loss: 0.3324 - val_accuracy: 0.8662 - lr: 1.0000e-05\n",
      "Epoch 37/50\n",
      "88/88 [==============================] - 78s 883ms/step - loss: 0.3106 - accuracy: 0.8755 - val_loss: 0.3320 - val_accuracy: 0.8669 - lr: 1.0000e-05\n",
      "Epoch 38/50\n",
      "88/88 [==============================] - 77s 873ms/step - loss: 0.3085 - accuracy: 0.8768 - val_loss: 0.3319 - val_accuracy: 0.8669 - lr: 1.0000e-05\n",
      "Epoch 39/50\n",
      "88/88 [==============================] - 76s 862ms/step - loss: 0.3104 - accuracy: 0.8755 - val_loss: 0.3313 - val_accuracy: 0.8669 - lr: 1.0000e-05\n",
      "Epoch 40/50\n",
      "88/88 [==============================] - 76s 866ms/step - loss: 0.3078 - accuracy: 0.8755 - val_loss: 0.3312 - val_accuracy: 0.8675 - lr: 1.0000e-05\n",
      "Epoch 41/50\n",
      "88/88 [==============================] - 75s 858ms/step - loss: 0.3053 - accuracy: 0.8770 - val_loss: 0.3315 - val_accuracy: 0.8675 - lr: 1.0000e-05\n",
      "Epoch 42/50\n",
      "88/88 [==============================] - 76s 860ms/step - loss: 0.3144 - accuracy: 0.8748 - val_loss: 0.3313 - val_accuracy: 0.8675 - lr: 1.0000e-05\n",
      "Epoch 43/50\n",
      "88/88 [==============================] - 72s 815ms/step - loss: 0.3021 - accuracy: 0.8805 - val_loss: 0.3316 - val_accuracy: 0.8675 - lr: 1.0000e-05\n",
      "Epoch 44/50\n",
      "88/88 [==============================] - 73s 833ms/step - loss: 0.3130 - accuracy: 0.8752 - val_loss: 0.3312 - val_accuracy: 0.8669 - lr: 1.0000e-05\n",
      "Epoch 45/50\n",
      "88/88 [==============================] - 79s 897ms/step - loss: 0.3089 - accuracy: 0.8712 - val_loss: 0.3309 - val_accuracy: 0.8675 - lr: 1.0000e-05\n",
      "Epoch 46/50\n",
      "88/88 [==============================] - 67s 761ms/step - loss: 0.3184 - accuracy: 0.8716 - val_loss: 0.3307 - val_accuracy: 0.8675 - lr: 1.0000e-05\n",
      "Epoch 47/50\n",
      "88/88 [==============================] - 66s 755ms/step - loss: 0.3107 - accuracy: 0.8771 - val_loss: 0.3302 - val_accuracy: 0.8675 - lr: 1.0000e-05\n",
      "Epoch 48/50\n",
      "88/88 [==============================] - 66s 755ms/step - loss: 0.3105 - accuracy: 0.8763 - val_loss: 0.3299 - val_accuracy: 0.8675 - lr: 1.0000e-05\n",
      "Epoch 49/50\n",
      "88/88 [==============================] - 70s 799ms/step - loss: 0.3094 - accuracy: 0.8771 - val_loss: 0.3300 - val_accuracy: 0.8681 - lr: 1.0000e-05\n",
      "Epoch 50/50\n",
      "88/88 [==============================] - 79s 898ms/step - loss: 0.3114 - accuracy: 0.8748 - val_loss: 0.3302 - val_accuracy: 0.8681 - lr: 1.0000e-05\n",
      "Eğitim Süresi: 3738.88 saniye\n"
     ]
    }
   ],
   "source": [
    "start_time = time.time()\n",
    "history = model.fit(\n",
    "    train_dataset,\n",
    "    epochs=EPOCHS, \n",
    "    validation_data=validation_dataset,\n",
    "    callbacks=[reduce_lr] \n",
    ")\n",
    "end_time = time.time()\n",
    "print(f\"Eğitim Süresi: {end_time - start_time:.2f} saniye\")"
   ]
  },
  {
   "cell_type": "code",
   "execution_count": 8,
   "id": "0ed9f64b",
   "metadata": {},
   "outputs": [
    {
     "name": "stdout",
     "output_type": "stream",
     "text": [
      "Model başarıyla kaydedildi: C:\\Users\\ofaru\\Desktop\\GitHub\\Gastroenterology-CNN-Comparison\\models\\efficientnetv2b0_augmented_FIXED.h5\n"
     ]
    }
   ],
   "source": [
    "model_filename = os.path.join(MODEL_SAVE_PATH, f\"{experiment_name}.h5\")\n",
    "model.save(model_filename)\n",
    "print(f\"Model başarıyla kaydedildi: {model_filename}\")"
   ]
  },
  {
   "cell_type": "code",
   "execution_count": 9,
   "id": "2f8c7407",
   "metadata": {},
   "outputs": [
    {
     "data": {
      "image/png": "[encoded data removed]",
      "text/plain": [
       "<Figure size 1000x500 with 2 Axes>"
      ]
     },
     "metadata": {},
     "output_type": "display_data"
    }
   ],
   "source": [
    "acc = history.history['accuracy']\n",
    "val_acc = history.history['val_accuracy']\n",
    "loss = history.history['loss']\n",
    "val_loss = history.history['val_loss']\n",
    "\n",
    "plt.figure(figsize=(10, 5))\n",
    "plt.subplot(1, 2, 1)\n",
    "plt.plot(acc, label='Eğitim Doğruluğu')\n",
    "plt.plot(val_acc, label='Validasyon Doğruluğu')\n",
    "plt.legend(loc='lower right')\n",
    "plt.title(f'{experiment_name} - Doğruluk Grafiği')\n",
    "\n",
    "plt.subplot(1, 2, 2)\n",
    "plt.plot(loss, label='Eğitim Kaybı')\n",
    "plt.plot(val_loss, label='Validasyon Kaybı')\n",
    "plt.legend(loc='upper right')\n",
    "plt.title(f'{experiment_name} - Kayıp Grafiği')\n",
    "plt.show()"
   ]
  }
 ],
 "metadata": {
  "kernelspec": {
   "display_name": "cnnenv",
   "language": "python",
   "name": "python3"
  },
  "language_info": {
   "codemirror_mode": {
    "name": "ipython",
    "version": 3
   },
   "file_extension": ".py",
   "mimetype": "text/x-python",
   "name": "python",
   "nbconvert_exporter": "python",
   "pygments_lexer": "ipython3",
   "version": "3.10.11"
  }
 },
 "nbformat": 4,
 "nbformat_minor": 5
}
