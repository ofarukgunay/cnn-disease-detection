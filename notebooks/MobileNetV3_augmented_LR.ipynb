{
 "cells": [
  {
   "cell_type": "code",
   "execution_count": 1,
   "id": "bbf0a33a",
   "metadata": {},
   "outputs": [
    {
     "name": "stdout",
     "output_type": "stream",
     "text": [
      "Kullanılabilir GPU Sayısı:  1\n"
     ]
    }
   ],
   "source": [
    "import tensorflow as tf\n",
    "print(\"Kullanılabilir GPU Sayısı: \", len(tf.config.experimental.list_physical_devices('GPU')))\n",
    "from tensorflow.keras import layers, models, applications\n",
    "import matplotlib.pyplot as plt\n",
    "import numpy as np\n",
    "import os\n",
    "import time"
   ]
  },
  {
   "cell_type": "code",
   "execution_count": 2,
   "id": "48dfa55a",
   "metadata": {},
   "outputs": [],
   "source": [
    "TRAIN_DIR = \"C:\\\\Users\\\\ofaru\\\\Desktop\\\\GitHub\\\\Gastroenterology-CNN-Comparison\\\\data\\\\prepared-data\\\\train\"  \n",
    "VAL_DIR = \"C:\\\\Users\\\\ofaru\\\\Desktop\\\\GitHub\\\\Gastroenterology-CNN-Comparison\\\\data\\\\prepared-data\\\\val\"\n",
    "IMG_SIZE = (224, 224)\n",
    "BATCH_SIZE = 64\n",
    "NUM_CLASSES = 8 # Kvasir-v2 için 8 sınıf var\n",
    "EPOCHS = 50 # Denemeler için sonrasında artırılabilir\n",
    "MODEL_SAVE_PATH = \"C:\\\\Users\\\\ofaru\\\\Desktop\\\\GitHub\\\\Gastroenterology-CNN-Comparison\\\\models\\\\\" # Modellerin kaydedileceği yer\n",
    "\n",
    "# Klasörün var olduğundan emin ol\n",
    "os.makedirs(MODEL_SAVE_PATH, exist_ok=True)"
   ]
  },
  {
   "cell_type": "code",
   "execution_count": 3,
   "id": "35717f82",
   "metadata": {},
   "outputs": [
    {
     "name": "stdout",
     "output_type": "stream",
     "text": [
      "Found 5592 files belonging to 8 classes.\n",
      "Found 1600 files belonging to 8 classes.\n",
      "Sınıflar: ['dyed-lifted-polyps', 'dyed-resection-margins', 'esophagitis', 'normal-cecum', 'normal-pylorus', 'normal-z-line', 'polyps', 'ulcerative-colitis']\n"
     ]
    }
   ],
   "source": [
    "# 'categorical' kullanıyoruz çünkü 8 sınıfımız var\n",
    "train_dataset = tf.keras.utils.image_dataset_from_directory(\n",
    "    TRAIN_DIR,\n",
    "    seed=123,\n",
    "    image_size=IMG_SIZE,\n",
    "    batch_size=BATCH_SIZE,\n",
    "    label_mode='categorical'\n",
    ")\n",
    "\n",
    "validation_dataset = tf.keras.utils.image_dataset_from_directory(\n",
    "    VAL_DIR,\n",
    "    seed=123,\n",
    "    image_size=IMG_SIZE,\n",
    "    batch_size=BATCH_SIZE,\n",
    "    label_mode='categorical'\n",
    ")\n",
    "\n",
    "class_names = train_dataset.class_names\n",
    "print(\"Sınıflar:\", class_names)\n",
    "\n",
    "# Performans için veri setlerini önbelleğe al\n",
    "AUTOTUNE = tf.data.AUTOTUNE\n",
    "train_dataset = train_dataset.cache().prefetch(buffer_size=AUTOTUNE)\n",
    "validation_dataset = validation_dataset.cache().prefetch(buffer_size=AUTOTUNE)"
   ]
  },
  {
   "cell_type": "code",
   "execution_count": 4,
   "id": "a848c97e",
   "metadata": {},
   "outputs": [],
   "source": [
    "def get_base_model():\n",
    "    return applications.MobileNetV3Large(input_shape=(*IMG_SIZE, 3), include_top=False, weights='imagenet')\n",
    "\n",
    "\n",
    "def get_preprocessing_pipeline():\n",
    "    # SADECE Augmentation, scaling yok\n",
    "    return models.Sequential([\n",
    "        layers.Input(shape=(*IMG_SIZE, 3)),\n",
    "        layers.RandomFlip(\"horizontal_and_vertical\"),\n",
    "        layers.RandomRotation(0.2),\n",
    "        layers.RandomZoom(0.2),\n",
    "        layers.RandomContrast(0.2)\n",
    "    ], name=\"mobilenet_augmented_pipeline_FIXED\")\n",
    "\n",
    "experiment_name = \"mobilenetv3_large_augmented_LRSchedule\""
   ]
  },
  {
   "cell_type": "code",
   "execution_count": 5,
   "id": "eed2b0da",
   "metadata": {},
   "outputs": [
    {
     "name": "stdout",
     "output_type": "stream",
     "text": [
      "Deney Başlatılıyor: mobilenetv3_large_augmented_LRSchedule\n",
      "Model: \"model\"\n",
      "_________________________________________________________________\n",
      " Layer (type)                Output Shape              Param #   \n",
      "=================================================================\n",
      " input_layer (InputLayer)    [(None, 224, 224, 3)]     0         \n",
      "                                                                 \n",
      " mobilenet_augmented_pipelin  (None, 224, 224, 3)      0         \n",
      " e_FIXED (Sequential)                                            \n",
      "                                                                 \n",
      " MobilenetV3large (Functiona  (None, 7, 7, 960)        2996352   \n",
      " l)                                                              \n",
      "                                                                 \n",
      " global_average_pooling2d (G  (None, 960)              0         \n",
      " lobalAveragePooling2D)                                          \n",
      "                                                                 \n",
      " dropout (Dropout)           (None, 960)               0         \n",
      "                                                                 \n",
      " dense (Dense)               (None, 8)                 7688      \n",
      "                                                                 \n",
      "=================================================================\n",
      "Total params: 3,004,040\n",
      "Trainable params: 7,688\n",
      "Non-trainable params: 2,996,352\n",
      "_________________________________________________________________\n"
     ]
    }
   ],
   "source": [
    "def create_model(base_model_func, preprocessing_pipeline_func, num_classes):\n",
    "    # Transfer Learning için temel modeli al ve dondur\n",
    "    base_model = base_model_func()\n",
    "    base_model.trainable = False\n",
    "    \n",
    "    # Ön işleme hattını al\n",
    "    preprocessing_pipeline = preprocessing_pipeline_func()\n",
    "    \n",
    "    # Modeli birleştir\n",
    "    inputs = layers.Input(shape=(*IMG_SIZE, 3), name=\"input_layer\")\n",
    "    x = preprocessing_pipeline(inputs)\n",
    "    x = base_model(x, training=False) # 'training=False' önemlidir\n",
    "    x = layers.GlobalAveragePooling2D()(x)\n",
    "    x = layers.Dropout(0.3)(x)\n",
    "    outputs = layers.Dense(num_classes, activation=\"softmax\")(x)\n",
    "    \n",
    "    model = models.Model(inputs, outputs)\n",
    "    \n",
    "    model.compile(\n",
    "        optimizer=tf.keras.optimizers.Adam(learning_rate=0.001),\n",
    "        loss=\"categorical_crossentropy\",\n",
    "        metrics=[\"accuracy\"]\n",
    "    )\n",
    "    return model\n",
    "\n",
    "print(f\"Deney Başlatılıyor: {experiment_name}\")\n",
    "model = create_model(get_base_model, get_preprocessing_pipeline, NUM_CLASSES)\n",
    "model.summary()"
   ]
  },
  {
   "cell_type": "code",
   "execution_count": 6,
   "id": "da7c7ff9",
   "metadata": {},
   "outputs": [
    {
     "name": "stdout",
     "output_type": "stream",
     "text": [
      "ReduceLROnPlateau callback tanımlandı.\n"
     ]
    }
   ],
   "source": [
    "reduce_lr = tf.keras.callbacks.ReduceLROnPlateau(\n",
    "    monitor='val_loss',\n",
    "    factor=0.2,\n",
    "    patience=3,\n",
    "    min_lr=0.00001\n",
    ")\n",
    "print(\"ReduceLROnPlateau callback tanımlandı.\")"
   ]
  },
  {
   "cell_type": "code",
   "execution_count": 7,
   "id": "be71e6f6",
   "metadata": {},
   "outputs": [
    {
     "name": "stdout",
     "output_type": "stream",
     "text": [
      "Epoch 1/50\n",
      "WARNING:tensorflow:Using a while_loop for converting RngReadAndSkip cause there is no registered converter for this op.\n",
      "WARNING:tensorflow:Using a while_loop for converting Bitcast cause there is no registered converter for this op.\n",
      "WARNING:tensorflow:Using a while_loop for converting Bitcast cause there is no registered converter for this op.\n",
      "WARNING:tensorflow:Using a while_loop for converting StatelessRandomUniformV2 cause there is no registered converter for this op.\n",
      "WARNING:tensorflow:Using a while_loop for converting ImageProjectiveTransformV3 cause there is no registered converter for this op.\n",
      "WARNING:tensorflow:Using a while_loop for converting RngReadAndSkip cause there is no registered converter for this op.\n",
      "WARNING:tensorflow:Using a while_loop for converting Bitcast cause there is no registered converter for this op.\n",
      "WARNING:tensorflow:Using a while_loop for converting Bitcast cause there is no registered converter for this op.\n",
      "WARNING:tensorflow:Using a while_loop for converting StatelessRandomUniformV2 cause there is no registered converter for this op.\n",
      "WARNING:tensorflow:Using a while_loop for converting ImageProjectiveTransformV3 cause there is no registered converter for this op.\n",
      "WARNING:tensorflow:Using a while_loop for converting RngReadAndSkip cause there is no registered converter for this op.\n",
      "WARNING:tensorflow:Using a while_loop for converting Bitcast cause there is no registered converter for this op.\n",
      "WARNING:tensorflow:Using a while_loop for converting Bitcast cause there is no registered converter for this op.\n",
      "WARNING:tensorflow:Using a while_loop for converting StatelessRandomUniformFullIntV2 cause there is no registered converter for this op.\n",
      "WARNING:tensorflow:Using a while_loop for converting StatelessRandomGetKeyCounter cause there is no registered converter for this op.\n",
      "WARNING:tensorflow:Using a while_loop for converting StatelessRandomUniformV2 cause there is no registered converter for this op.\n",
      "WARNING:tensorflow:Using a while_loop for converting AdjustContrastv2 cause Input \"contrast_factor\" of op 'AdjustContrastv2' expected to be loop invariant.\n",
      "WARNING:tensorflow:Using a while_loop for converting RngReadAndSkip cause there is no registered converter for this op.\n",
      "WARNING:tensorflow:Using a while_loop for converting Bitcast cause there is no registered converter for this op.\n",
      "WARNING:tensorflow:Using a while_loop for converting Bitcast cause there is no registered converter for this op.\n",
      "WARNING:tensorflow:Using a while_loop for converting StatelessRandomUniformV2 cause there is no registered converter for this op.\n",
      "WARNING:tensorflow:Using a while_loop for converting ImageProjectiveTransformV3 cause there is no registered converter for this op.\n",
      "WARNING:tensorflow:Using a while_loop for converting RngReadAndSkip cause there is no registered converter for this op.\n",
      "WARNING:tensorflow:Using a while_loop for converting Bitcast cause there is no registered converter for this op.\n",
      "WARNING:tensorflow:Using a while_loop for converting Bitcast cause there is no registered converter for this op.\n",
      "WARNING:tensorflow:Using a while_loop for converting StatelessRandomUniformV2 cause there is no registered converter for this op.\n",
      "WARNING:tensorflow:Using a while_loop for converting ImageProjectiveTransformV3 cause there is no registered converter for this op.\n",
      "WARNING:tensorflow:Using a while_loop for converting RngReadAndSkip cause there is no registered converter for this op.\n",
      "WARNING:tensorflow:Using a while_loop for converting Bitcast cause there is no registered converter for this op.\n",
      "WARNING:tensorflow:Using a while_loop for converting Bitcast cause there is no registered converter for this op.\n",
      "WARNING:tensorflow:Using a while_loop for converting StatelessRandomUniformFullIntV2 cause there is no registered converter for this op.\n",
      "WARNING:tensorflow:Using a while_loop for converting StatelessRandomGetKeyCounter cause there is no registered converter for this op.\n",
      "WARNING:tensorflow:Using a while_loop for converting StatelessRandomUniformV2 cause there is no registered converter for this op.\n",
      "WARNING:tensorflow:Using a while_loop for converting AdjustContrastv2 cause Input \"contrast_factor\" of op 'AdjustContrastv2' expected to be loop invariant.\n",
      "88/88 [==============================] - 156s 832ms/step - loss: 1.3411 - accuracy: 0.5107 - val_loss: 0.6666 - val_accuracy: 0.7706 - lr: 0.0010\n",
      "Epoch 2/50\n",
      "88/88 [==============================] - 73s 828ms/step - loss: 0.6534 - accuracy: 0.7455 - val_loss: 0.5003 - val_accuracy: 0.8181 - lr: 0.0010\n",
      "Epoch 3/50\n",
      "88/88 [==============================] - 73s 835ms/step - loss: 0.5432 - accuracy: 0.7858 - val_loss: 0.4479 - val_accuracy: 0.8306 - lr: 0.0010\n",
      "Epoch 4/50\n",
      "88/88 [==============================] - 74s 836ms/step - loss: 0.4914 - accuracy: 0.8045 - val_loss: 0.4170 - val_accuracy: 0.8356 - lr: 0.0010\n",
      "Epoch 5/50\n",
      "88/88 [==============================] - 73s 834ms/step - loss: 0.4548 - accuracy: 0.8165 - val_loss: 0.4148 - val_accuracy: 0.8388 - lr: 0.0010\n",
      "Epoch 6/50\n",
      "88/88 [==============================] - 74s 837ms/step - loss: 0.4309 - accuracy: 0.8242 - val_loss: 0.4118 - val_accuracy: 0.8344 - lr: 0.0010\n",
      "Epoch 7/50\n",
      "88/88 [==============================] - 73s 829ms/step - loss: 0.4059 - accuracy: 0.8376 - val_loss: 0.3740 - val_accuracy: 0.8556 - lr: 0.0010\n",
      "Epoch 8/50\n",
      "88/88 [==============================] - 74s 835ms/step - loss: 0.3983 - accuracy: 0.8426 - val_loss: 0.3841 - val_accuracy: 0.8406 - lr: 0.0010\n",
      "Epoch 9/50\n",
      "88/88 [==============================] - 74s 836ms/step - loss: 0.3845 - accuracy: 0.8426 - val_loss: 0.3599 - val_accuracy: 0.8494 - lr: 0.0010\n",
      "Epoch 10/50\n",
      "88/88 [==============================] - 74s 838ms/step - loss: 0.3754 - accuracy: 0.8516 - val_loss: 0.3422 - val_accuracy: 0.8569 - lr: 0.0010\n",
      "Epoch 11/50\n",
      "88/88 [==============================] - 73s 834ms/step - loss: 0.3724 - accuracy: 0.8516 - val_loss: 0.3410 - val_accuracy: 0.8531 - lr: 0.0010\n",
      "Epoch 12/50\n",
      "88/88 [==============================] - 73s 824ms/step - loss: 0.3639 - accuracy: 0.8539 - val_loss: 0.3255 - val_accuracy: 0.8637 - lr: 0.0010\n",
      "Epoch 13/50\n",
      "88/88 [==============================] - 66s 746ms/step - loss: 0.3575 - accuracy: 0.8612 - val_loss: 0.3249 - val_accuracy: 0.8669 - lr: 0.0010\n",
      "Epoch 14/50\n",
      "88/88 [==============================] - 63s 714ms/step - loss: 0.3490 - accuracy: 0.8582 - val_loss: 0.3232 - val_accuracy: 0.8687 - lr: 0.0010\n",
      "Epoch 15/50\n",
      "88/88 [==============================] - 62s 709ms/step - loss: 0.3571 - accuracy: 0.8544 - val_loss: 0.3182 - val_accuracy: 0.8737 - lr: 0.0010\n",
      "Epoch 16/50\n",
      "88/88 [==============================] - 63s 716ms/step - loss: 0.3490 - accuracy: 0.8573 - val_loss: 0.3452 - val_accuracy: 0.8525 - lr: 0.0010\n",
      "Epoch 17/50\n",
      "88/88 [==============================] - 62s 707ms/step - loss: 0.3494 - accuracy: 0.8603 - val_loss: 0.3290 - val_accuracy: 0.8669 - lr: 0.0010\n",
      "Epoch 18/50\n",
      "88/88 [==============================] - 63s 711ms/step - loss: 0.3517 - accuracy: 0.8580 - val_loss: 0.3356 - val_accuracy: 0.8644 - lr: 0.0010\n",
      "Epoch 19/50\n",
      "88/88 [==============================] - 73s 825ms/step - loss: 0.3387 - accuracy: 0.8611 - val_loss: 0.3226 - val_accuracy: 0.8662 - lr: 2.0000e-04\n",
      "Epoch 20/50\n",
      "88/88 [==============================] - 72s 819ms/step - loss: 0.3250 - accuracy: 0.8716 - val_loss: 0.3222 - val_accuracy: 0.8656 - lr: 2.0000e-04\n",
      "Epoch 21/50\n",
      "88/88 [==============================] - 72s 816ms/step - loss: 0.3214 - accuracy: 0.8682 - val_loss: 0.3234 - val_accuracy: 0.8631 - lr: 2.0000e-04\n",
      "Epoch 22/50\n",
      "88/88 [==============================] - 72s 814ms/step - loss: 0.3250 - accuracy: 0.8689 - val_loss: 0.3254 - val_accuracy: 0.8594 - lr: 4.0000e-05\n",
      "Epoch 23/50\n",
      "88/88 [==============================] - 72s 817ms/step - loss: 0.3256 - accuracy: 0.8691 - val_loss: 0.3255 - val_accuracy: 0.8612 - lr: 4.0000e-05\n",
      "Epoch 24/50\n",
      "88/88 [==============================] - 72s 817ms/step - loss: 0.3274 - accuracy: 0.8655 - val_loss: 0.3246 - val_accuracy: 0.8619 - lr: 4.0000e-05\n",
      "Epoch 25/50\n",
      "88/88 [==============================] - 71s 805ms/step - loss: 0.3344 - accuracy: 0.8650 - val_loss: 0.3238 - val_accuracy: 0.8631 - lr: 1.0000e-05\n",
      "Epoch 26/50\n",
      "88/88 [==============================] - 71s 807ms/step - loss: 0.3211 - accuracy: 0.8748 - val_loss: 0.3239 - val_accuracy: 0.8644 - lr: 1.0000e-05\n",
      "Epoch 27/50\n",
      "88/88 [==============================] - 71s 811ms/step - loss: 0.3212 - accuracy: 0.8707 - val_loss: 0.3238 - val_accuracy: 0.8637 - lr: 1.0000e-05\n",
      "Epoch 28/50\n",
      "88/88 [==============================] - 71s 804ms/step - loss: 0.3181 - accuracy: 0.8677 - val_loss: 0.3239 - val_accuracy: 0.8619 - lr: 1.0000e-05\n",
      "Epoch 29/50\n",
      "88/88 [==============================] - 71s 803ms/step - loss: 0.3212 - accuracy: 0.8686 - val_loss: 0.3245 - val_accuracy: 0.8612 - lr: 1.0000e-05\n",
      "Epoch 30/50\n",
      "88/88 [==============================] - 71s 809ms/step - loss: 0.3278 - accuracy: 0.8680 - val_loss: 0.3246 - val_accuracy: 0.8619 - lr: 1.0000e-05\n",
      "Epoch 31/50\n",
      "88/88 [==============================] - 71s 809ms/step - loss: 0.3198 - accuracy: 0.8668 - val_loss: 0.3253 - val_accuracy: 0.8625 - lr: 1.0000e-05\n",
      "Epoch 32/50\n",
      "88/88 [==============================] - 71s 812ms/step - loss: 0.3174 - accuracy: 0.8711 - val_loss: 0.3246 - val_accuracy: 0.8619 - lr: 1.0000e-05\n",
      "Epoch 33/50\n",
      "88/88 [==============================] - 71s 809ms/step - loss: 0.3279 - accuracy: 0.8684 - val_loss: 0.3240 - val_accuracy: 0.8619 - lr: 1.0000e-05\n",
      "Epoch 34/50\n",
      "88/88 [==============================] - 72s 814ms/step - loss: 0.3306 - accuracy: 0.8653 - val_loss: 0.3249 - val_accuracy: 0.8612 - lr: 1.0000e-05\n",
      "Epoch 35/50\n",
      "88/88 [==============================] - 91s 1s/step - loss: 0.3215 - accuracy: 0.8729 - val_loss: 0.3236 - val_accuracy: 0.8619 - lr: 1.0000e-05\n",
      "Epoch 36/50\n",
      "88/88 [==============================] - 90s 1s/step - loss: 0.3279 - accuracy: 0.8609 - val_loss: 0.3233 - val_accuracy: 0.8619 - lr: 1.0000e-05\n",
      "Epoch 37/50\n",
      "88/88 [==============================] - 74s 847ms/step - loss: 0.3259 - accuracy: 0.8680 - val_loss: 0.3234 - val_accuracy: 0.8637 - lr: 1.0000e-05\n",
      "Epoch 38/50\n",
      "88/88 [==============================] - 87s 994ms/step - loss: 0.3283 - accuracy: 0.8695 - val_loss: 0.3238 - val_accuracy: 0.8612 - lr: 1.0000e-05\n",
      "Epoch 39/50\n",
      "88/88 [==============================] - 91s 1s/step - loss: 0.3181 - accuracy: 0.8680 - val_loss: 0.3241 - val_accuracy: 0.8612 - lr: 1.0000e-05\n",
      "Epoch 40/50\n",
      "88/88 [==============================] - 96s 1s/step - loss: 0.3264 - accuracy: 0.8705 - val_loss: 0.3228 - val_accuracy: 0.8644 - lr: 1.0000e-05\n",
      "Epoch 41/50\n",
      "88/88 [==============================] - 94s 1s/step - loss: 0.3248 - accuracy: 0.8734 - val_loss: 0.3229 - val_accuracy: 0.8644 - lr: 1.0000e-05\n",
      "Epoch 42/50\n",
      "88/88 [==============================] - 95s 1s/step - loss: 0.3256 - accuracy: 0.8662 - val_loss: 0.3232 - val_accuracy: 0.8637 - lr: 1.0000e-05\n",
      "Epoch 43/50\n",
      "88/88 [==============================] - 94s 1s/step - loss: 0.3230 - accuracy: 0.8662 - val_loss: 0.3242 - val_accuracy: 0.8625 - lr: 1.0000e-05\n",
      "Epoch 44/50\n",
      "88/88 [==============================] - 91s 1s/step - loss: 0.3306 - accuracy: 0.8671 - val_loss: 0.3243 - val_accuracy: 0.8619 - lr: 1.0000e-05\n",
      "Epoch 45/50\n",
      "88/88 [==============================] - 178s 2s/step - loss: 0.3169 - accuracy: 0.8730 - val_loss: 0.3241 - val_accuracy: 0.8619 - lr: 1.0000e-05\n",
      "Epoch 46/50\n",
      "88/88 [==============================] - 85s 950ms/step - loss: 0.3262 - accuracy: 0.8653 - val_loss: 0.3247 - val_accuracy: 0.8612 - lr: 1.0000e-05\n",
      "Epoch 47/50\n",
      "88/88 [==============================] - 78s 886ms/step - loss: 0.3275 - accuracy: 0.8634 - val_loss: 0.3259 - val_accuracy: 0.8619 - lr: 1.0000e-05\n",
      "Epoch 48/50\n",
      "88/88 [==============================] - 68s 770ms/step - loss: 0.3202 - accuracy: 0.8696 - val_loss: 0.3255 - val_accuracy: 0.8612 - lr: 1.0000e-05\n",
      "Epoch 49/50\n",
      "88/88 [==============================] - 72s 820ms/step - loss: 0.3241 - accuracy: 0.8698 - val_loss: 0.3251 - val_accuracy: 0.8619 - lr: 1.0000e-05\n",
      "Epoch 50/50\n",
      "88/88 [==============================] - 76s 867ms/step - loss: 0.3189 - accuracy: 0.8712 - val_loss: 0.3247 - val_accuracy: 0.8625 - lr: 1.0000e-05\n",
      "Eğitim Süresi: 3945.39 saniye\n"
     ]
    }
   ],
   "source": [
    "start_time = time.time()\n",
    "history = model.fit(\n",
    "    train_dataset,\n",
    "    epochs=EPOCHS,\n",
    "    validation_data=validation_dataset,\n",
    "    callbacks=[reduce_lr]\n",
    ")\n",
    "end_time = time.time()\n",
    "print(f\"Eğitim Süresi: {end_time - start_time:.2f} saniye\")"
   ]
  },
  {
   "cell_type": "code",
   "execution_count": 8,
   "id": "0ed9f64b",
   "metadata": {},
   "outputs": [
    {
     "name": "stdout",
     "output_type": "stream",
     "text": [
      "Model başarıyla kaydedildi: C:\\Users\\ofaru\\Desktop\\GitHub\\Gastroenterology-CNN-Comparison\\models\\mobilenetv3_large_augmented_LRSchedule.h5\n"
     ]
    }
   ],
   "source": [
    "model_filename = os.path.join(MODEL_SAVE_PATH, f\"{experiment_name}.h5\")\n",
    "model.save(model_filename)\n",
    "print(f\"Model başarıyla kaydedildi: {model_filename}\")"
   ]
  },
  {
   "cell_type": "code",
   "execution_count": 9,
   "id": "2f8c7407",
   "metadata": {},
   "outputs": [
    {
     "data": {
      "image/png": "[encoded data removed]",
      "text/plain": [
       "<Figure size 1000x500 with 2 Axes>"
      ]
     },
     "metadata": {},
     "output_type": "display_data"
    }
   ],
   "source": [
    "acc = history.history['accuracy']\n",
    "val_acc = history.history['val_accuracy']\n",
    "loss = history.history['loss']\n",
    "val_loss = history.history['val_loss']\n",
    "\n",
    "plt.figure(figsize=(10, 5))\n",
    "plt.subplot(1, 2, 1)\n",
    "plt.plot(acc, label='Eğitim Doğruluğu')\n",
    "plt.plot(val_acc, label='Validasyon Doğruluğu')\n",
    "plt.legend(loc='lower right')\n",
    "plt.title(f'{experiment_name} - Doğruluk Grafiği')\n",
    "\n",
    "plt.subplot(1, 2, 2)\n",
    "plt.plot(loss, label='Eğitim Kaybı')\n",
    "plt.plot(val_loss, label='Validasyon Kaybı')\n",
    "plt.legend(loc='upper right')\n",
    "plt.title(f'{experiment_name} - Kayıp Grafiği')\n",
    "plt.show()"
   ]
  }
 ],
 "metadata": {
  "kernelspec": {
   "display_name": "cnnenv",
   "language": "python",
   "name": "python3"
  },
  "language_info": {
   "codemirror_mode": {
    "name": "ipython",
    "version": 3
   },
   "file_extension": ".py",
   "mimetype": "text/x-python",
   "name": "python",
   "nbconvert_exporter": "python",
   "pygments_lexer": "ipython3",
   "version": "3.10.11"
  }
 },
 "nbformat": 4,
 "nbformat_minor": 5
}
